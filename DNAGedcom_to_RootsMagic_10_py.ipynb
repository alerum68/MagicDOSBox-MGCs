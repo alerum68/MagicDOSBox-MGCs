{
  "nbformat": 4,
  "nbformat_minor": 0,
  "metadata": {
    "colab": {
      "provenance": [],
      "toc_visible": true,
      "authorship_tag": "ABX9TyMwrhWbMYNFZz84/ZvCHN0a",
      "include_colab_link": true
    },
    "kernelspec": {
      "name": "python3",
      "display_name": "Python 3"
    },
    "language_info": {
      "name": "python"
    }
  },
  "cells": [
    {
      "cell_type": "markdown",
      "metadata": {
        "id": "view-in-github",
        "colab_type": "text"
      },
      "source": [
        "<a href=\"https://colab.research.google.com/github/alerum68/MagicDOSBox-MGCs/blob/main/DNAGedcom_to_RootsMagic_10_py.ipynb\" target=\"_parent\"><img src=\"https://colab.research.google.com/assets/colab-badge.svg\" alt=\"Open In Colab\"/></a>"
      ]
    },
    {
      "cell_type": "code",
      "execution_count": null,
      "metadata": {
        "id": "YuDhaBEfax3d"
      },
      "outputs": [],
      "source": [
        "import sqlite3\n",
        "\n",
        "def transfer_dna_data(dnagedcom_db_path, rootsmagic_db_path):\n",
        "    # Connect to the DNAGedcom database\n",
        "    conn_dna = sqlite3.connect(dnagedcom_db_path)\n",
        "    cursor_dna = conn_dna.cursor()\n",
        "\n",
        "    # Custom collation function for RMNOCASE\n",
        "    def rmnocase_collation(x, y):\n",
        "        if x.lower() < y.lower():\n",
        "            return -1\n",
        "        elif x.lower() > y.lower():\n",
        "            return 1\n",
        "        else:\n",
        "            return 0\n",
        "\n",
        "    # Connect to the RootsMagic database with custom collation\n",
        "    conn_rm = sqlite3.connect(rootsmagic_db_path)\n",
        "    conn_rm.create_collation(\"RMNOCASE\", rmnocase_collation)\n",
        "    cursor_rm = conn_rm.cursor()\n",
        "\n",
        "    try:\n",
        "        # Fetch DNA kit data from Ancestry_matchGroups in DNAGedcom\n",
        "        cursor_dna.execute(\"SELECT testGuid, matchGuid, matchTreeId, matchTestDisplayName, sharedCentimorgans, sharedSegment, created_date, confidence, groupName FROM Ancestry_matchGroups\")\n",
        "        ancestry_kits = cursor_dna.fetchall()\n",
        "\n",
        "        # Fetch EventType from FactTypeTable in RootsMagic\n",
        "        cursor_rm.execute(\"SELECT FactTypeID FROM FactTypeTable WHERE Name LIKE '%DNA%'\")\n",
        "        event_types = cursor_rm.fetchall()\n",
        "\n",
        "        # Extract EventType IDs\n",
        "        event_type_ids = [event[0] for event in event_types]\n",
        "\n",
        "        # Fetch ethnic regions data from Ancestry_matchEthnicity in DNAGedcom\n",
        "        cursor_dna.execute(\"SELECT matchGuid, ethnicregions FROM Ancestry_matchEthnicity\")\n",
        "        ancestry_ethnicity = cursor_dna.fetchall()\n",
        "\n",
        "        # Create a dictionary for ethnicity data\n",
        "        ethnicity_dict = {str(ethnicity[0]): str(ethnicity[1]).replace(\",\", \"\\n\") for ethnicity in ancestry_ethnicity}\n",
        "\n",
        "        # Process and insert data into RootsMagic database\n",
        "        for kit in ancestry_kits:\n",
        "            testGuid, matchGuid, matchTreeId, matchTestDisplayName, sharedCentimorgans, sharedSegment, created_date, confidence, groupName = map(str, kit)\n",
        "\n",
        "            # Check if DNA kit has corresponding event records in RootsMagic\n",
        "            cursor_rm.execute(\"SELECT COUNT(*) FROM EventTable WHERE EventType IN ({}) AND (Details LIKE ? OR Details LIKE ?)\".format(','.join('?' * len(event_type_ids))), event_type_ids + [f'%{testGuid}%', f'%{matchGuid}%'])\n",
        "            count = cursor_rm.fetchone()[0]\n",
        "\n",
        "            if count > 0:\n",
        "                # Retrieve OwnerIDs for both testGuid and matchGuid\n",
        "                cursor_rm.execute(\"SELECT OwnerID, Details FROM EventTable WHERE EventType IN ({}) AND (Details LIKE ? OR Details LIKE ?)\".format(','.join('?' * len(event_type_ids))), event_type_ids + [f'%{testGuid}%', f'%{matchGuid}%'])\n",
        "                results = cursor_rm.fetchall()\n",
        "\n",
        "                owner_id1 = None\n",
        "                owner_id2 = None\n",
        "\n",
        "                for result in results:\n",
        "                    owner_id = str(result[0])\n",
        "                    details = result[1]\n",
        "\n",
        "                    if details == testGuid:\n",
        "                        owner_id1 = owner_id\n",
        "                    elif details == matchGuid:\n",
        "                        owner_id2 = owner_id\n",
        "\n",
        "                # Check if both OwnerIDs were found\n",
        "                if owner_id1 is not None and owner_id2 is not None:\n",
        "                    ethnic_region = ethnicity_dict.get(matchGuid, \"Unknown\").replace(\"_\", \" \")\n",
        "\n",
        "                    # Round confidence to 2 decimal places\n",
        "                    rounded_confidence = round(float(confidence), 2)\n",
        "\n",
        "                    # Construct note with formatted output\n",
        "                    note = f\"{rounded_confidence}% chance of {matchTestDisplayName} being a {groupName}.\\n Ethnic Regions:\\n{ethnic_region}\\n\"\n",
        "\n",
        "                    # Insert data into DNATable using both OwnerIDs\n",
        "                    cursor_rm.execute('''\n",
        "                        INSERT INTO DNATable (\n",
        "                            ID1, ID2, Label1, Label2, DNAProvider,\n",
        "                            SharedCM, SharedPercent, LargeSeg, SharedSegs, Date,\n",
        "                            Relate1, Relate2, CommonAnc, CommonAncType, Verified, Note, UTCModDate\n",
        "                        ) VALUES (?, ?, ?, ?, ?, ?, ?, ?, ?, ?, ?, ?, ?, ?, ?, ?, ?)\n",
        "                    ''', (owner_id1, owner_id2, matchTreeId, matchTestDisplayName, '2', sharedCentimorgans, None, None, sharedSegment, created_date, None, None, None, None, None, note, None))\n",
        "\n",
        "                    print(f\"Parsed record: {matchTestDisplayName}: {testGuid}, {matchGuid}\")\n",
        "\n",
        "\n",
        "        # Commit changes\n",
        "        conn_rm.commit()\n",
        "        print(\"Data transfer completed successfully.\")\n",
        "\n",
        "    except sqlite3.Error as e:\n",
        "        print(f\"SQLite error: {e}\")\n",
        "        conn_rm.rollback()  # Rollback changes on error\n",
        "\n",
        "    finally:\n",
        "        # Close connections\n",
        "        conn_dna.close()\n",
        "        conn_rm.close()\n",
        "\n",
        "# Prompt for database locations\n",
        "dnagedcom_db_path = input(\"Enter the path to the DNAGedcom database: \")\n",
        "rootsmagic_db_path = input(\"Enter the path to the RootsMagic database: \")\n",
        "\n",
        "# Execute the data transfer\n",
        "transfer_dna_data(dnagedcom_db_path, rootsmagic_db_path)\n"
      ]
    },
    {
      "cell_type": "markdown",
      "source": [
        "# Instructions\n"
      ],
      "metadata": {
        "id": "INaBhMJzcEbX"
      }
    },
    {
      "cell_type": "markdown",
      "source": [
        "Ensure that each person that has a DNA Kit has a Custom Fact Type for DNA, with the comments containing the Match ID from Ancestry (It looks something like this: 0000-1234-5678-9000) Run the script and specify the full path location of your DNAGedcom and RootsMagic 10 databases.  It will merge based of the matchGuid and your \"DNA\" fact from RootsMagic, so these must match.\n"
      ],
      "metadata": {
        "id": "emxHZF9scFZt"
      }
    },
    {
      "cell_type": "markdown",
      "source": [],
      "metadata": {
        "id": "2enn2yRtdHuw"
      }
    }
  ]
}